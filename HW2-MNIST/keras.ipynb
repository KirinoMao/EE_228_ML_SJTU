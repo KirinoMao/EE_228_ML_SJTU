{
 "cells": [
  {
   "cell_type": "markdown",
   "metadata": {},
   "source": [
    "# Keras Tutorial"
   ]
  },
  {
   "cell_type": "markdown",
   "metadata": {},
   "source": [
    "Keras is a popular deep learning framework and it's easy to get started."
   ]
  },
  {
   "cell_type": "code",
   "execution_count": 35,
   "metadata": {},
   "outputs": [],
   "source": [
    "import keras\n",
    "from keras.datasets import mnist\n",
    "from keras.models import Sequential\n",
    "from keras.layers import Dense, Dropout, Flatten, Conv2D, MaxPooling2D, Activation\n",
    "\n",
    "BATCH_SIZE = 128\n",
    "NUM_CLASSES = 10\n",
    "NUM_EPOCHS = 10"
   ]
  },
  {
   "cell_type": "markdown",
   "metadata": {},
   "source": [
    "First, we read the mnist data and preprocess them."
   ]
  },
  {
   "cell_type": "code",
   "execution_count": 36,
   "metadata": {},
   "outputs": [],
   "source": [
    "# download and load the data (split them between train and test sets)\n",
    "(x_train, y_train), (x_test, y_test) = mnist.load_data()\n",
    "\n",
    "# expand the channel dimension\n",
    "x_train = x_train.reshape(x_train.shape[0], 28, 28, 1)\n",
    "x_test = x_test.reshape(x_test.shape[0], 28, 28, 1)\n",
    "input_shape = (28, 28, 1)\n",
    "\n",
    "# make the value of pixels from [0, 255] to [0, 1] for further process\n",
    "x_train = x_train.astype('float32') / 255.\n",
    "x_test = x_test.astype('float32') / 255.\n",
    "\n",
    "# convert class vectors to binary class matrics\n",
    "y_train = keras.utils.to_categorical(y_train, NUM_CLASSES)\n",
    "y_test = keras.utils.to_categorical(y_test, NUM_CLASSES)"
   ]
  },
  {
   "cell_type": "markdown",
   "metadata": {},
   "source": [
    "Then, we define the model, object function and optimizer that we use to classify."
   ]
  },
  {
   "cell_type": "code",
   "execution_count": 42,
   "metadata": {},
   "outputs": [
    {
     "name": "stdout",
     "output_type": "stream",
     "text": [
      "_________________________________________________________________\n",
      "Layer (type)                 Output Shape              Param #   \n",
      "=================================================================\n",
      "conv2d_3 (Conv2D)            (None, 26, 26, 32)        320       \n",
      "_________________________________________________________________\n",
      "max_pooling2d_2 (MaxPooling2 (None, 13, 13, 32)        0         \n",
      "_________________________________________________________________\n",
      "flatten_11 (Flatten)         (None, 5408)              0         \n",
      "_________________________________________________________________\n",
      "dense_42 (Dense)             (None, 32)                173088    \n",
      "_________________________________________________________________\n",
      "dense_43 (Dense)             (None, 10)                330       \n",
      "=================================================================\n",
      "Total params: 173,738\n",
      "Trainable params: 173,738\n",
      "Non-trainable params: 0\n",
      "_________________________________________________________________\n"
     ]
    }
   ],
   "source": [
    "# define the model\n",
    "model = Sequential() \n",
    "\n",
    "model.add(Conv2D(32,kernel_size=(3,3),activation=\"relu\",input_shape=input_shape))\n",
    "\n",
    "model.add(MaxPooling2D(pool_size=(2,2)))\n",
    "model.add(Flatten())\n",
    "          \n",
    "model.add(Dense(32,activation=\"relu\"))\n",
    "model.add(Dense(NUM_CLASSES,activation='softmax'))\n",
    "          \n",
    "model.summary()\n",
    "\n",
    "# define the object function, optimizer and metrics\n",
    "model.compile(optimizer='adam',loss='categorical_crossentropy',metrics=['accuracy'])"
   ]
  },
  {
   "cell_type": "markdown",
   "metadata": {},
   "source": [
    "Next, we can start to train and evaluate!"
   ]
  },
  {
   "cell_type": "code",
   "execution_count": 48,
   "metadata": {},
   "outputs": [
    {
     "name": "stdout",
     "output_type": "stream",
     "text": [
      "Train on 57000 samples, validate on 3000 samples\n",
      "Epoch 1/10\n",
      "57000/57000 [==============================] - 117s 2ms/step - loss: 0.1086 - acc: 0.9678 - val_loss: 0.0959 - val_acc: 0.9717\n",
      "Epoch 2/10\n",
      "57000/57000 [==============================] - 92s 2ms/step - loss: 0.1053 - acc: 0.9687 - val_loss: 0.0822 - val_acc: 0.9793\n",
      "Epoch 3/10\n",
      "57000/57000 [==============================] - 84s 1ms/step - loss: 0.1023 - acc: 0.9695 - val_loss: 0.0852 - val_acc: 0.9803\n",
      "Epoch 4/10\n",
      "57000/57000 [==============================] - 93s 2ms/step - loss: 0.0998 - acc: 0.9705 - val_loss: 0.0911 - val_acc: 0.9767\n",
      "Epoch 5/10\n",
      "57000/57000 [==============================] - 101s 2ms/step - loss: 0.0970 - acc: 0.9712 - val_loss: 0.0824 - val_acc: 0.9803\n",
      "Epoch 6/10\n",
      "57000/57000 [==============================] - 164s 3ms/step - loss: 0.0947 - acc: 0.9720 - val_loss: 0.0823 - val_acc: 0.9790\n",
      "Epoch 7/10\n",
      "57000/57000 [==============================] - 109s 2ms/step - loss: 0.0922 - acc: 0.9729 - val_loss: 0.0889 - val_acc: 0.9777\n",
      "Epoch 8/10\n",
      "57000/57000 [==============================] - 82s 1ms/step - loss: 0.0900 - acc: 0.9734 - val_loss: 0.0759 - val_acc: 0.9820\n",
      "Epoch 9/10\n",
      "57000/57000 [==============================] - 78s 1ms/step - loss: 0.0875 - acc: 0.9742 - val_loss: 0.0771 - val_acc: 0.9793\n",
      "Epoch 10/10\n",
      "57000/57000 [==============================] - 95s 2ms/step - loss: 0.0857 - acc: 0.9746 - val_loss: 0.0780 - val_acc: 0.9793\n",
      "60000/60000 [==============================] - 48s 797us/step\n",
      "Training loss: 0.0885, Training accuracy: 97.39%\n",
      "10000/10000 [==============================] - 10s 983us/step\n",
      "Testing loss: 0.0989, Testing accuracy: 97.02%\n"
     ]
    }
   ],
   "source": [
    "# train\n",
    "model.fit(x_train, y_train, epochs=NUM_EPOCHS, batch_size=BATCH_SIZE, verbose=1, validation_split=0.05)\n",
    "\n",
    "# evaluate\n",
    "score_train = model.evaluate(x_train,y_train)\n",
    "print('Training loss: %.4f, Training accuracy: %.2f%%' % (score_train[0],score_train[1]*100))\n",
    "score_test = model.evaluate(x_test,y_test)\n",
    "print('Testing loss: %.4f, Testing accuracy: %.2f%%' % (score_test[0],score_test[1]*100))"
   ]
  },
  {
   "cell_type": "markdown",
   "metadata": {},
   "source": [
    "#### Q6:\n",
    "Please print the training and testing accuracy."
   ]
  }
 ],
 "metadata": {
  "kernelspec": {
   "display_name": "Python 3",
   "language": "python",
   "name": "python3"
  },
  "language_info": {
   "codemirror_mode": {
    "name": "ipython",
    "version": 3
   },
   "file_extension": ".py",
   "mimetype": "text/x-python",
   "name": "python",
   "nbconvert_exporter": "python",
   "pygments_lexer": "ipython3",
   "version": "3.6.5"
  }
 },
 "nbformat": 4,
 "nbformat_minor": 2
}
